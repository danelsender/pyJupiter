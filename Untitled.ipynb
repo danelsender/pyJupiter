{
 "cells": [
  {
   "cell_type": "code",
   "execution_count": 1,
   "id": "dff56bea-69b7-4c51-bd06-19fa91673dba",
   "metadata": {},
   "outputs": [
    {
     "ename": "SyntaxError",
     "evalue": "f-string: single '}' is not allowed (pyJupiter.py, line 484)",
     "output_type": "error",
     "traceback": [
      "Traceback \u001b[0;36m(most recent call last)\u001b[0m:\n",
      "  File \u001b[1;32m\"/usr/lib/python3/dist-packages/IPython/core/interactiveshell.py\"\u001b[0m, line \u001b[1;32m3457\u001b[0m, in \u001b[1;35mrun_code\u001b[0m\n    exec(code_obj, self.user_global_ns, self.user_ns)\n",
      "\u001b[0;36m  File \u001b[0;32m\"/tmp/ipykernel_1827068/1463465932.py\"\u001b[0;36m, line \u001b[0;32m5\u001b[0;36m, in \u001b[0;35m<module>\u001b[0;36m\u001b[0m\n\u001b[0;31m    import pyJupiter as jup\u001b[0m\n",
      "\u001b[0;36m  File \u001b[0;32m\"/home/delsender/codes/pyJupiter/pyJupiter.py\"\u001b[0;36m, line \u001b[0;32m484\u001b[0m\n\u001b[0;31m    plt.savefig(f\"/home/delsender/figures/intro/{filename}_{self.N:03d}.{filetype}}\")\u001b[0m\n\u001b[0m                                                                                    ^\u001b[0m\n\u001b[0;31mSyntaxError\u001b[0m\u001b[0;31m:\u001b[0m f-string: single '}' is not allowed\n"
     ]
    }
   ],
   "source": [
    "import os\n",
    "import matplotlib.pyplot as plt\n",
    "outputdir = '/home/ipa/ipaszulagyi/users/delsender/adiab_1e-2/adiab_3D_g_1e-2'\n",
    "\n",
    "import pyJupiter as jup\n",
    "\n",
    "os.chdir(outputdir)\n",
    "\n",
    "N = 130"
   ]
  },
  {
   "cell_type": "code",
   "execution_count": null,
   "id": "87cd386a",
   "metadata": {},
   "outputs": [],
   "source": [
    "_field = 'gasdensity'"
   ]
  },
  {
   "cell_type": "code",
   "execution_count": null,
   "id": "63d6708b-4db2-484c-bd06-aa6404909e07",
   "metadata": {},
   "outputs": [
    {
     "data": {
      "image/png": "[encoded data removed]",
      "text/plain": [
       "<Figure size 432x288 with 2 Axes>"
      ]
     },
     "metadata": {
      "needs_background": "light"
     },
     "output_type": "display_data"
    }
   ],
   "source": [
    "fig = jup.output(N)\n",
    "\n",
    "fig.plotvertslice(field=_field,polar=True)#,physical=True)"
   ]
  },
  {
   "cell_type": "code",
   "execution_count": 6,
   "id": "48496337-900a-4bf7-a58e-04975d0386bf",
   "metadata": {},
   "outputs": [],
   "source": [
    "temp_min, temp_max = jup.get(130).global_minmax(field=_field,physical=True)"
   ]
  },
  {
   "cell_type": "code",
   "execution_count": 7,
   "id": "4746c311-0cb5-45ba-92a9-76d0811d6f17",
   "metadata": {},
   "outputs": [
    {
     "name": "stdout",
     "output_type": "stream",
     "text": [
      "minimum dens is: -402346.56825189537, \n",
      " maximum dens is: 1591586.9508989248\n"
     ]
    }
   ],
   "source": [
    "print(f\"minimum dens is: {temp_min}, \\n maximum dens is: {temp_max}\")"
   ]
  },
  {
   "cell_type": "code",
   "execution_count": 4,
   "id": "ceccd795-58c5-407d-b8c5-e3cb2feccfb2",
   "metadata": {},
   "outputs": [
    {
     "data": {
      "image/png": "[encoded data removed]",
      "text/plain": [
       "<Figure size 432x288 with 2 Axes>"
      ]
     },
     "metadata": {
      "needs_background": "light"
     },
     "output_type": "display_data"
    }
   ],
   "source": [
    "for i in range(130,131):\n",
    "    jup.output(i).plotvertslice(field=_field,polar=True,save=True,filename='adiab_vert_1e-2_dens',filetype='pdf')"
   ]
  },
  {
   "cell_type": "code",
   "execution_count": null,
   "id": "714438ec-0564-4cb4-805e-459a4c83876e",
   "metadata": {},
   "outputs": [],
   "source": []
  }
 ],
 "metadata": {
  "kernelspec": {
   "display_name": "Python 3 (ipykernel)",
   "language": "python",
   "name": "python3"
  },
  "language_info": {
   "codemirror_mode": {
    "name": "ipython",
    "version": 3
   },
   "file_extension": ".py",
   "mimetype": "text/x-python",
   "name": "python",
   "nbconvert_exporter": "python",
   "pygments_lexer": "ipython3",
   "version": "3.10.12"
  }
 },
 "nbformat": 4,
 "nbformat_minor": 5
}
