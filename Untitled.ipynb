{
 "cells": [
  {
   "cell_type": "code",
   "execution_count": 1,
   "id": "dff56bea-69b7-4c51-bd06-19fa91673dba",
   "metadata": {},
   "outputs": [
    {
     "name": "stdout",
     "output_type": "stream",
     "text": [
      "0.14888551831143068\n"
     ]
    },
    {
     "data": {
      "text/plain": [
       "(2.1374028691225742e-05, 0.02137402869122574)"
      ]
     },
     "execution_count": 1,
     "metadata": {},
     "output_type": "execute_result"
    }
   ],
   "source": [
    "import os\n",
    "import matplotlib.pyplot as plt\n",
    "outputdir = '/home/ipa/ipaszulagyi/users/delsender/adiab_1e-2/adiab_3D_g_1e-2'\n",
    "\n",
    "import pyJupiter as jup\n",
    "\n",
    "os.chdir(outputdir)\n",
    "\n",
    "\n",
    "N = 130\n",
    "_field = 'gasdensity'\n",
    "fig = jup.output(N)\n",
    "fig.hill_sphere_mass(physical=False,planetmass=0.01)"
   ]
  },
  {
   "cell_type": "code",
   "execution_count": 3,
   "id": "87cd386a",
   "metadata": {},
   "outputs": [],
   "source": [
    "_field = 'gasdensity'"
   ]
  },
  {
   "cell_type": "code",
   "execution_count": 4,
   "id": "63d6708b-4db2-484c-bd06-aa6404909e07",
   "metadata": {},
   "outputs": [
    {
     "data": {
      "text/plain": [
       "<Figure size 864x288 with 0 Axes>"
      ]
     },
     "metadata": {},
     "output_type": "display_data"
    },
    {
     "data": {
      "image/png": "[encoded data removed]",
      "text/plain": [
       "<Figure size 432x288 with 2 Axes>"
      ]
     },
     "metadata": {
      "needs_background": "light"
     },
     "output_type": "display_data"
    }
   ],
   "source": [
    "fig = jup.output(N)\n",
    "\n",
    "fig.plotvertslice(field=_field,polar=False)"
   ]
  },
  {
   "cell_type": "code",
   "execution_count": 5,
   "id": "821f41da",
   "metadata": {},
   "outputs": [
    {
     "name": "stdout",
     "output_type": "stream",
     "text": [
      "0.14888551831143068\n",
      "[False False False  True  True  True  True  True  True  True  True  True\n",
      "  True  True  True  True  True  True  True  True]\n",
      "[[[-0. -0. -0. ... -0. -0. -0.]\n",
      "  [-0. -0. -0. ... -0. -0. -0.]\n",
      "  [-0. -0. -0. ... -0. -0. -0.]\n",
      "  ...\n",
      "  [-0. -0. -0. ... -0. -0. -0.]\n",
      "  [-0. -0. -0. ... -0. -0. -0.]\n",
      "  [-0. -0. -0. ... -0. -0. -0.]]\n",
      "\n",
      " [[-0. -0. -0. ... -0. -0. -0.]\n",
      "  [-0. -0. -0. ... -0. -0. -0.]\n",
      "  [-0. -0. -0. ... -0. -0. -0.]\n",
      "  ...\n",
      "  [-0. -0. -0. ... -0. -0. -0.]\n",
      "  [-0. -0. -0. ... -0. -0. -0.]\n",
      "  [-0. -0. -0. ... -0. -0. -0.]]\n",
      "\n",
      " [[-0. -0. -0. ... -0. -0. -0.]\n",
      "  [-0. -0. -0. ... -0. -0. -0.]\n",
      "  [-0. -0. -0. ... -0. -0. -0.]\n",
      "  ...\n",
      "  [-0. -0. -0. ... -0. -0. -0.]\n",
      "  [-0. -0. -0. ... -0. -0. -0.]\n",
      "  [-0. -0. -0. ... -0. -0. -0.]]\n",
      "\n",
      " ...\n",
      "\n",
      " [[-0. -0. -0. ... -0. -0. -0.]\n",
      "  [-0. -0. -0. ... -0. -0. -0.]\n",
      "  [-0. -0. -0. ... -0. -0. -0.]\n",
      "  ...\n",
      "  [-0. -0. -0. ... -0. -0. -0.]\n",
      "  [-0. -0. -0. ... -0. -0. -0.]\n",
      "  [-0. -0. -0. ... -0. -0. -0.]]\n",
      "\n",
      " [[-0. -0. -0. ... -0. -0. -0.]\n",
      "  [-0. -0. -0. ... -0. -0. -0.]\n",
      "  [-0. -0. -0. ... -0. -0. -0.]\n",
      "  ...\n",
      "  [-0. -0. -0. ... -0. -0. -0.]\n",
      "  [-0. -0. -0. ... -0. -0. -0.]\n",
      "  [-0. -0. -0. ... -0. -0. -0.]]\n",
      "\n",
      " [[-0. -0. -0. ... -0. -0. -0.]\n",
      "  [-0. -0. -0. ... -0. -0. -0.]\n",
      "  [-0. -0. -0. ... -0. -0. -0.]\n",
      "  ...\n",
      "  [-0. -0. -0. ... -0. -0. -0.]\n",
      "  [-0. -0. -0. ... -0. -0. -0.]\n",
      "  [-0. -0. -0. ... -0. -0. -0.]]]\n",
      "[False False False  True  True  True  True  True  True  True  True  True\n",
      "  True  True  True  True  True  True  True  True  True  True  True  True\n",
      "  True  True  True  True  True  True  True  True  True  True]\n",
      "[[[-0. -0. -0. ... -0. -0. -0.]\n",
      "  [-0. -0. -0. ... -0. -0. -0.]\n",
      "  [-0. -0. -0. ... -0. -0. -0.]\n",
      "  ...\n",
      "  [-0. -0. -0. ... -0. -0. -0.]\n",
      "  [-0. -0. -0. ... -0. -0. -0.]\n",
      "  [-0. -0. -0. ... -0. -0. -0.]]\n",
      "\n",
      " [[-0. -0. -0. ... -0. -0. -0.]\n",
      "  [-0. -0. -0. ... -0. -0. -0.]\n",
      "  [-0. -0. -0. ... -0. -0. -0.]\n",
      "  ...\n",
      "  [-0. -0. -0. ... -0. -0. -0.]\n",
      "  [-0. -0. -0. ... -0. -0. -0.]\n",
      "  [-0. -0. -0. ... -0. -0. -0.]]\n",
      "\n",
      " [[-0. -0. -0. ... -0. -0. -0.]\n",
      "  [-0. -0. -0. ... -0. -0. -0.]\n",
      "  [-0. -0. -0. ... -0. -0. -0.]\n",
      "  ...\n",
      "  [-0. -0. -0. ... -0. -0. -0.]\n",
      "  [-0. -0. -0. ... -0. -0. -0.]\n",
      "  [-0. -0. -0. ... -0. -0. -0.]]\n",
      "\n",
      " ...\n",
      "\n",
      " [[-0. -0. -0. ... -0. -0. -0.]\n",
      "  [-0. -0. -0. ... -0. -0. -0.]\n",
      "  [-0. -0. -0. ... -0. -0. -0.]\n",
      "  ...\n",
      "  [-0. -0. -0. ... -0. -0. -0.]\n",
      "  [-0. -0. -0. ... -0. -0. -0.]\n",
      "  [-0. -0. -0. ... -0. -0. -0.]]\n",
      "\n",
      " [[-0. -0. -0. ... -0. -0. -0.]\n",
      "  [-0. -0. -0. ... -0. -0. -0.]\n",
      "  [-0. -0. -0. ... -0. -0. -0.]\n",
      "  ...\n",
      "  [-0. -0. -0. ... -0. -0. -0.]\n",
      "  [-0. -0. -0. ... -0. -0. -0.]\n",
      "  [-0. -0. -0. ... -0. -0. -0.]]\n",
      "\n",
      " [[-0. -0. -0. ... -0. -0. -0.]\n",
      "  [-0. -0. -0. ... -0. -0. -0.]\n",
      "  [-0. -0. -0. ... -0. -0. -0.]\n",
      "  ...\n",
      "  [-0. -0. -0. ... -0. -0. -0.]\n",
      "  [-0. -0. -0. ... -0. -0. -0.]\n",
      "  [-0. -0. -0. ... -0. -0. -0.]]]\n",
      "[False False False False False False False False False False False False\n",
      " False False False False False False False  True  True  True  True  True\n",
      "  True  True  True  True  True  True  True  True  True  True  True  True\n",
      "  True  True  True  True  True  True  True  True  True  True  True  True\n",
      "  True  True  True  True  True  True  True  True  True  True  True  True\n",
      "  True  True]\n",
      "[[[-0. -0. -0. ... -0. -0. -0.]\n",
      "  [-0. -0. -0. ... -0. -0. -0.]\n",
      "  [-0. -0. -0. ... -0. -0. -0.]\n",
      "  ...\n",
      "  [-0. -0. -0. ... -0. -0. -0.]\n",
      "  [-0. -0. -0. ... -0. -0. -0.]\n",
      "  [-0. -0. -0. ... -0. -0. -0.]]\n",
      "\n",
      " [[-0. -0. -0. ... -0. -0. -0.]\n",
      "  [-0. -0. -0. ... -0. -0. -0.]\n",
      "  [-0. -0. -0. ... -0. -0. -0.]\n",
      "  ...\n",
      "  [-0. -0. -0. ... -0. -0. -0.]\n",
      "  [-0. -0. -0. ... -0. -0. -0.]\n",
      "  [-0. -0. -0. ... -0. -0. -0.]]\n",
      "\n",
      " [[-0. -0. -0. ... -0. -0. -0.]\n",
      "  [-0. -0. -0. ... -0. -0. -0.]\n",
      "  [-0. -0. -0. ... -0. -0. -0.]\n",
      "  ...\n",
      "  [-0. -0. -0. ... -0. -0. -0.]\n",
      "  [-0. -0. -0. ... -0. -0. -0.]\n",
      "  [-0. -0. -0. ... -0. -0. -0.]]\n",
      "\n",
      " ...\n",
      "\n",
      " [[-0. -0. -0. ... -0. -0. -0.]\n",
      "  [-0. -0. -0. ... -0. -0. -0.]\n",
      "  [-0. -0. -0. ... -0. -0. -0.]\n",
      "  ...\n",
      "  [-0. -0. -0. ... -0. -0. -0.]\n",
      "  [-0. -0. -0. ... -0. -0. -0.]\n",
      "  [-0. -0. -0. ... -0. -0. -0.]]\n",
      "\n",
      " [[-0. -0. -0. ... -0. -0. -0.]\n",
      "  [-0. -0. -0. ... -0. -0. -0.]\n",
      "  [-0. -0. -0. ... -0. -0. -0.]\n",
      "  ...\n",
      "  [-0. -0. -0. ... -0. -0. -0.]\n",
      "  [-0. -0. -0. ... -0. -0. -0.]\n",
      "  [-0. -0. -0. ... -0. -0. -0.]]\n",
      "\n",
      " [[-0. -0. -0. ... -0. -0. -0.]\n",
      "  [-0. -0. -0. ... -0. -0. -0.]\n",
      "  [-0. -0. -0. ... -0. -0. -0.]\n",
      "  ...\n",
      "  [-0. -0. -0. ... -0. -0. -0.]\n",
      "  [-0. -0. -0. ... -0. -0. -0.]\n",
      "  [-0. -0. -0. ... -0. -0. -0.]]]\n",
      "1.9019498707074127e-05\n"
     ]
    },
    {
     "data": {
      "text/plain": [
       "(0, 0.0)"
      ]
     },
     "execution_count": 5,
     "metadata": {},
     "output_type": "execute_result"
    }
   ],
   "source": [
    "fig.hill_sphere_mass(physical=False,planetmass=0.01)"
   ]
  },
  {
   "cell_type": "code",
   "execution_count": 6,
   "id": "48496337-900a-4bf7-a58e-04975d0386bf",
   "metadata": {},
   "outputs": [
    {
     "ename": "KeyboardInterrupt",
     "evalue": "",
     "output_type": "error",
     "traceback": [
      "\u001b[0;31m---------------------------------------------------------------------------\u001b[0m",
      "\u001b[0;31mKeyboardInterrupt\u001b[0m                         Traceback (most recent call last)",
      "\u001b[0;32m/tmp/ipykernel_3146099/1481812492.py\u001b[0m in \u001b[0;36m<module>\u001b[0;34m\u001b[0m\n\u001b[0;32m----> 1\u001b[0;31m \u001b[0mtemp_min\u001b[0m\u001b[0;34m,\u001b[0m \u001b[0mtemp_max\u001b[0m \u001b[0;34m=\u001b[0m \u001b[0mjup\u001b[0m\u001b[0;34m.\u001b[0m\u001b[0mget\u001b[0m\u001b[0;34m(\u001b[0m\u001b[0;36m130\u001b[0m\u001b[0;34m)\u001b[0m\u001b[0;34m.\u001b[0m\u001b[0mglobal_minmax\u001b[0m\u001b[0;34m(\u001b[0m\u001b[0mfield\u001b[0m\u001b[0;34m=\u001b[0m\u001b[0m_field\u001b[0m\u001b[0;34m,\u001b[0m\u001b[0mphysical\u001b[0m\u001b[0;34m=\u001b[0m\u001b[0;32mTrue\u001b[0m\u001b[0;34m)\u001b[0m\u001b[0;34m\u001b[0m\u001b[0;34m\u001b[0m\u001b[0m\n\u001b[0m",
      "\u001b[0;32m~/codes/pyJupiter/pyJupiter.py\u001b[0m in \u001b[0;36mglobal_minmax\u001b[0;34m(self, field, physical)\u001b[0m\n\u001b[1;32m    882\u001b[0m \u001b[0;34m\u001b[0m\u001b[0m\n\u001b[1;32m    883\u001b[0m         \u001b[0;32mfor\u001b[0m \u001b[0mi\u001b[0m \u001b[0;32min\u001b[0m \u001b[0mrange\u001b[0m\u001b[0;34m(\u001b[0m\u001b[0mself\u001b[0m\u001b[0;34m.\u001b[0m\u001b[0mN\u001b[0m\u001b[0;34m)\u001b[0m\u001b[0;34m:\u001b[0m\u001b[0;34m\u001b[0m\u001b[0;34m\u001b[0m\u001b[0m\n\u001b[0;32m--> 884\u001b[0;31m             tempmin, tempmax = output(i+1).get_minmax(field=self.field,\n\u001b[0m\u001b[1;32m    885\u001b[0m                                                       velocity=self.velocityfield)#,\n\u001b[1;32m    886\u001b[0m                                                     \u001b[0;31m#   physical=self.physical)\u001b[0m\u001b[0;34m\u001b[0m\u001b[0;34m\u001b[0m\u001b[0m\n",
      "\u001b[0;32m~/codes/pyJupiter/pyJupiter.py\u001b[0m in \u001b[0;36mget_minmax\u001b[0;34m(self, field, reflvls, velocity)\u001b[0m\n\u001b[1;32m    178\u001b[0m             \u001b[0mreflvls\u001b[0m \u001b[0;34m=\u001b[0m \u001b[0marange\u001b[0m\u001b[0;34m(\u001b[0m\u001b[0;36m0\u001b[0m\u001b[0;34m,\u001b[0m\u001b[0mself\u001b[0m\u001b[0;34m.\u001b[0m\u001b[0mmaxreflvl\u001b[0m\u001b[0;34m+\u001b[0m\u001b[0;36m1\u001b[0m\u001b[0;34m)\u001b[0m\u001b[0;34m\u001b[0m\u001b[0;34m\u001b[0m\u001b[0m\n\u001b[1;32m    179\u001b[0m \u001b[0;34m\u001b[0m\u001b[0m\n\u001b[0;32m--> 180\u001b[0;31m         \u001b[0mself\u001b[0m\u001b[0;34m.\u001b[0m\u001b[0mupddate_maxmin\u001b[0m\u001b[0;34m(\u001b[0m\u001b[0mfield\u001b[0m\u001b[0;34m,\u001b[0m\u001b[0mreflvls\u001b[0m\u001b[0;34m,\u001b[0m\u001b[0mvel\u001b[0m\u001b[0;34m=\u001b[0m\u001b[0;36m0\u001b[0m\u001b[0;34m,\u001b[0m\u001b[0mz\u001b[0m\u001b[0;34m=\u001b[0m\u001b[0;36m0\u001b[0m\u001b[0;34m,\u001b[0m\u001b[0mazigrid\u001b[0m\u001b[0;34m=\u001b[0m\u001b[0;36m0\u001b[0m\u001b[0;34m,\u001b[0m\u001b[0mavg\u001b[0m\u001b[0;34m=\u001b[0m\u001b[0;32mFalse\u001b[0m\u001b[0;34m,\u001b[0m\u001b[0mvert\u001b[0m\u001b[0;34m=\u001b[0m\u001b[0;32mFalse\u001b[0m\u001b[0;34m)\u001b[0m\u001b[0;31m#,\u001b[0m\u001b[0;34m\u001b[0m\u001b[0;34m\u001b[0m\u001b[0m\n\u001b[0m\u001b[1;32m    181\u001b[0m                             \u001b[0;31m#physical=self.physical)\u001b[0m\u001b[0;34m\u001b[0m\u001b[0;34m\u001b[0m\u001b[0m\n\u001b[1;32m    182\u001b[0m \u001b[0;34m\u001b[0m\u001b[0m\n",
      "\u001b[0;32m~/codes/pyJupiter/pyJupiter.py\u001b[0m in \u001b[0;36mupddate_maxmin\u001b[0;34m(self, field, reflvls, vel, z, azigrid, avg, vert)\u001b[0m\n\u001b[1;32m    218\u001b[0m                     \u001b[0mdata\u001b[0m \u001b[0;34m=\u001b[0m \u001b[0mself\u001b[0m\u001b[0;34m.\u001b[0m\u001b[0mreaddata\u001b[0m\u001b[0;34m(\u001b[0m\u001b[0mfield\u001b[0m\u001b[0;34m,\u001b[0m\u001b[0mlvl\u001b[0m\u001b[0;34m)\u001b[0m\u001b[0;34m[\u001b[0m\u001b[0mvel\u001b[0m\u001b[0;34m,\u001b[0m\u001b[0;34m:\u001b[0m\u001b[0;34m,\u001b[0m\u001b[0;34m:\u001b[0m\u001b[0;34m]\u001b[0m\u001b[0;34m\u001b[0m\u001b[0;34m\u001b[0m\u001b[0m\n\u001b[1;32m    219\u001b[0m             \u001b[0;32melse\u001b[0m\u001b[0;34m:\u001b[0m\u001b[0;34m\u001b[0m\u001b[0;34m\u001b[0m\u001b[0m\n\u001b[0;32m--> 220\u001b[0;31m                     \u001b[0mmiddata\u001b[0m \u001b[0;34m=\u001b[0m \u001b[0mself\u001b[0m\u001b[0;34m.\u001b[0m\u001b[0mreaddata\u001b[0m\u001b[0;34m(\u001b[0m\u001b[0mfield\u001b[0m\u001b[0;34m,\u001b[0m\u001b[0mlvl\u001b[0m\u001b[0;34m)\u001b[0m\u001b[0;34m[\u001b[0m\u001b[0;34m-\u001b[0m\u001b[0;36m1\u001b[0m\u001b[0;34m-\u001b[0m\u001b[0mz\u001b[0m\u001b[0;34m,\u001b[0m\u001b[0;34m:\u001b[0m\u001b[0;34m,\u001b[0m\u001b[0;34m:\u001b[0m\u001b[0;34m]\u001b[0m\u001b[0;34m\u001b[0m\u001b[0;34m\u001b[0m\u001b[0m\n\u001b[0m\u001b[1;32m    221\u001b[0m                     \u001b[0mvertdata\u001b[0m \u001b[0;34m=\u001b[0m \u001b[0mself\u001b[0m\u001b[0;34m.\u001b[0m\u001b[0mreaddata\u001b[0m\u001b[0;34m(\u001b[0m\u001b[0mfield\u001b[0m\u001b[0;34m,\u001b[0m\u001b[0mlvl\u001b[0m\u001b[0;34m)\u001b[0m\u001b[0;34m[\u001b[0m\u001b[0;34m:\u001b[0m\u001b[0;34m,\u001b[0m\u001b[0;34m:\u001b[0m\u001b[0;34m,\u001b[0m\u001b[0mint\u001b[0m\u001b[0;34m(\u001b[0m\u001b[0mself\u001b[0m\u001b[0;34m.\u001b[0m\u001b[0mxdim\u001b[0m\u001b[0;34m[\u001b[0m\u001b[0mlvl\u001b[0m\u001b[0;34m]\u001b[0m\u001b[0;34m/\u001b[0m\u001b[0;36m2\u001b[0m\u001b[0;34m)\u001b[0m\u001b[0;34m]\u001b[0m\u001b[0;34m\u001b[0m\u001b[0;34m\u001b[0m\u001b[0m\n\u001b[1;32m    222\u001b[0m                     \u001b[0mdata\u001b[0m \u001b[0;34m=\u001b[0m \u001b[0mself\u001b[0m\u001b[0;34m.\u001b[0m\u001b[0mreaddata\u001b[0m\u001b[0;34m(\u001b[0m\u001b[0mfield\u001b[0m\u001b[0;34m,\u001b[0m\u001b[0mlvl\u001b[0m\u001b[0;34m)\u001b[0m\u001b[0;34m\u001b[0m\u001b[0;34m\u001b[0m\u001b[0m\n",
      "\u001b[0;32m~/codes/pyJupiter/pyJupiter.py\u001b[0m in \u001b[0;36mreaddata\u001b[0;34m(self, field, reflvl)\u001b[0m\n\u001b[1;32m    133\u001b[0m         '''\n\u001b[1;32m    134\u001b[0m         \u001b[0;31m#read .dat file\u001b[0m\u001b[0;34m\u001b[0m\u001b[0;34m\u001b[0m\u001b[0m\n\u001b[0;32m--> 135\u001b[0;31m         \u001b[0mdata\u001b[0m \u001b[0;34m=\u001b[0m \u001b[0mfromfile\u001b[0m\u001b[0;34m(\u001b[0m\u001b[0mself\u001b[0m\u001b[0;34m.\u001b[0m\u001b[0mfolder\u001b[0m\u001b[0;34m+\u001b[0m\u001b[0;34m'/%s%.1d_%.1d_%.1d.dat'\u001b[0m\u001b[0;34m%\u001b[0m\u001b[0;34m(\u001b[0m\u001b[0mfield\u001b[0m\u001b[0;34m,\u001b[0m\u001b[0mself\u001b[0m\u001b[0;34m.\u001b[0m\u001b[0mN\u001b[0m\u001b[0;34m,\u001b[0m\u001b[0mreflvl\u001b[0m\u001b[0;34m,\u001b[0m\u001b[0mreflvl\u001b[0m\u001b[0;34m)\u001b[0m\u001b[0;34m)\u001b[0m\u001b[0;34m\u001b[0m\u001b[0;34m\u001b[0m\u001b[0m\n\u001b[0m\u001b[1;32m    136\u001b[0m         \u001b[0;32mif\u001b[0m \u001b[0mself\u001b[0m\u001b[0;34m.\u001b[0m\u001b[0mphysical\u001b[0m \u001b[0;34m==\u001b[0m \u001b[0;32mTrue\u001b[0m\u001b[0;34m:\u001b[0m\u001b[0;34m\u001b[0m\u001b[0;34m\u001b[0m\u001b[0m\n\u001b[1;32m    137\u001b[0m             \u001b[0mdata\u001b[0m \u001b[0;34m=\u001b[0m \u001b[0mself\u001b[0m\u001b[0;34m.\u001b[0m\u001b[0mconvert_to_physical_units\u001b[0m\u001b[0;34m(\u001b[0m\u001b[0mdata\u001b[0m\u001b[0;34m)\u001b[0m\u001b[0;34m\u001b[0m\u001b[0;34m\u001b[0m\u001b[0m\n",
      "\u001b[0;31mKeyboardInterrupt\u001b[0m: "
     ]
    }
   ],
   "source": [
    "temp_min, temp_max = jup.get(130).global_minmax(field=_field,physical=True)"
   ]
  },
  {
   "cell_type": "code",
   "execution_count": null,
   "id": "102b9b02",
   "metadata": {},
   "outputs": [],
   "source": []
  },
  {
   "cell_type": "code",
   "execution_count": null,
   "id": "4746c311-0cb5-45ba-92a9-76d0811d6f17",
   "metadata": {},
   "outputs": [],
   "source": [
    "print(f\"minimum dens is: {temp_min}, \\n maximum dens is: {temp_max}\")"
   ]
  },
  {
   "cell_type": "code",
   "execution_count": null,
   "id": "ceccd795-58c5-407d-b8c5-e3cb2feccfb2",
   "metadata": {},
   "outputs": [],
   "source": [
    "for i in range(130,131):\n",
    "    jup.output(i).plotvertslice(field=_field,polar=True,save=True,filename='adiab_vert_1e-2_dens_zoom',filetype='pdf')"
   ]
  },
  {
   "cell_type": "code",
   "execution_count": null,
   "id": "bba47a3a",
   "metadata": {},
   "outputs": [],
   "source": []
  }
 ],
 "metadata": {
  "kernelspec": {
   "display_name": "Python 3 (ipykernel)",
   "language": "python",
   "name": "python3"
  },
  "language_info": {
   "codemirror_mode": {
    "name": "ipython",
    "version": 3
   },
   "file_extension": ".py",
   "mimetype": "text/x-python",
   "name": "python",
   "nbconvert_exporter": "python",
   "pygments_lexer": "ipython3",
   "version": "3.10.12"
  }
 },
 "nbformat": 4,
 "nbformat_minor": 5
}
